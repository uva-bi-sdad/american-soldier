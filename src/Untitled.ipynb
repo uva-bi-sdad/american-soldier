{
 "cells": [
  {
   "cell_type": "code",
   "execution_count": 5,
   "metadata": {},
   "outputs": [],
   "source": [
    "import pandas as pd\n",
    "import numpy as np\n",
    "import os"
   ]
  },
  {
   "cell_type": "code",
   "execution_count": 7,
   "metadata": {},
   "outputs": [],
   "source": [
    "os.chdir('/sfs/qumulo/qhome/scd3dz/git/american-soldier/')"
   ]
  },
  {
   "cell_type": "code",
   "execution_count": 9,
   "metadata": {},
   "outputs": [
    {
     "data": {
      "text/plain": [
       "'/sfs/qumulo/qhome/scd3dz/git/american-soldier'"
      ]
     },
     "execution_count": 9,
     "metadata": {},
     "output_type": "execute_result"
    }
   ],
   "source": [
    "os.getcwd()"
   ]
  },
  {
   "cell_type": "code",
   "execution_count": 11,
   "metadata": {},
   "outputs": [
    {
     "name": "stderr",
     "output_type": "stream",
     "text": [
      "/apps/software/standard/compiler/gcc/9.2.0/jupyter_conda/2019.10-py3.7/lib/python3.7/site-packages/IPython/core/interactiveshell.py:3063: DtypeWarning: Columns (3) have mixed types.Specify dtype option on import or set low_memory=False.\n",
      "  interactivity=interactivity, compiler=compiler, result=result)\n"
     ]
    }
   ],
   "source": [
    "df = pd.read_csv('./data/post_dspg/responses.csv')"
   ]
  },
  {
   "cell_type": "code",
   "execution_count": 12,
   "metadata": {},
   "outputs": [
    {
     "data": {
      "text/html": [
       "<div>\n",
       "<style scoped>\n",
       "    .dataframe tbody tr th:only-of-type {\n",
       "        vertical-align: middle;\n",
       "    }\n",
       "\n",
       "    .dataframe tbody tr th {\n",
       "        vertical-align: top;\n",
       "    }\n",
       "\n",
       "    .dataframe thead th {\n",
       "        text-align: right;\n",
       "    }\n",
       "</style>\n",
       "<table border=\"1\" class=\"dataframe\">\n",
       "  <thead>\n",
       "    <tr style=\"text-align: right;\">\n",
       "      <th></th>\n",
       "      <th>Unnamed: 0</th>\n",
       "      <th>identifier</th>\n",
       "      <th>question_id</th>\n",
       "      <th>answer value</th>\n",
       "      <th>answer_id</th>\n",
       "      <th>response_identifier</th>\n",
       "    </tr>\n",
       "  </thead>\n",
       "  <tbody>\n",
       "    <tr>\n",
       "      <th>0</th>\n",
       "      <td>23965.0</td>\n",
       "      <td>3604f485-0c72-40c5-9c45-f11eb812c8cb</td>\n",
       "      <td>S032W.Q1</td>\n",
       "      <td>7</td>\n",
       "      <td>S032W.Q1:7.0</td>\n",
       "      <td>6a39502f-682b-47af-bc08-f4ee1a0deb41</td>\n",
       "    </tr>\n",
       "    <tr>\n",
       "      <th>1</th>\n",
       "      <td>23966.0</td>\n",
       "      <td>663d6620-f12a-46ac-861d-d90034b21437</td>\n",
       "      <td>S032W.Q1</td>\n",
       "      <td>4</td>\n",
       "      <td>S032W.Q1:4.0</td>\n",
       "      <td>17b25e83-d6b5-40a1-989f-403b500d2b69</td>\n",
       "    </tr>\n",
       "    <tr>\n",
       "      <th>2</th>\n",
       "      <td>23967.0</td>\n",
       "      <td>ffe2662f-79b9-481d-9294-cabca50a3de1</td>\n",
       "      <td>S032W.Q1</td>\n",
       "      <td>3</td>\n",
       "      <td>S032W.Q1:3.0</td>\n",
       "      <td>a1be088e-50ee-423d-8e28-20e767b14beb</td>\n",
       "    </tr>\n",
       "    <tr>\n",
       "      <th>3</th>\n",
       "      <td>23968.0</td>\n",
       "      <td>52ca4fdd-318e-470a-adbb-f542a73b25e9</td>\n",
       "      <td>S032W.Q1</td>\n",
       "      <td>6</td>\n",
       "      <td>S032W.Q1:6.0</td>\n",
       "      <td>c55f786c-fe63-47c3-975f-dfbb603a6a7e</td>\n",
       "    </tr>\n",
       "    <tr>\n",
       "      <th>4</th>\n",
       "      <td>23969.0</td>\n",
       "      <td>ae143cd9-9835-41f9-b143-8ca2a41e3cfb</td>\n",
       "      <td>S032W.Q1</td>\n",
       "      <td>3</td>\n",
       "      <td>S032W.Q1:3.0</td>\n",
       "      <td>c72a9fd9-6a05-4c24-bfbf-02ebba3e1afe</td>\n",
       "    </tr>\n",
       "  </tbody>\n",
       "</table>\n",
       "</div>"
      ],
      "text/plain": [
       "   Unnamed: 0                            identifier question_id answer value  \\\n",
       "0     23965.0  3604f485-0c72-40c5-9c45-f11eb812c8cb    S032W.Q1            7   \n",
       "1     23966.0  663d6620-f12a-46ac-861d-d90034b21437    S032W.Q1            4   \n",
       "2     23967.0  ffe2662f-79b9-481d-9294-cabca50a3de1    S032W.Q1            3   \n",
       "3     23968.0  52ca4fdd-318e-470a-adbb-f542a73b25e9    S032W.Q1            6   \n",
       "4     23969.0  ae143cd9-9835-41f9-b143-8ca2a41e3cfb    S032W.Q1            3   \n",
       "\n",
       "      answer_id                   response_identifier  \n",
       "0  S032W.Q1:7.0  6a39502f-682b-47af-bc08-f4ee1a0deb41  \n",
       "1  S032W.Q1:4.0  17b25e83-d6b5-40a1-989f-403b500d2b69  \n",
       "2  S032W.Q1:3.0  a1be088e-50ee-423d-8e28-20e767b14beb  \n",
       "3  S032W.Q1:6.0  c55f786c-fe63-47c3-975f-dfbb603a6a7e  \n",
       "4  S032W.Q1:3.0  c72a9fd9-6a05-4c24-bfbf-02ebba3e1afe  "
      ]
     },
     "execution_count": 12,
     "metadata": {},
     "output_type": "execute_result"
    }
   ],
   "source": [
    "df.head()"
   ]
  },
  {
   "cell_type": "code",
   "execution_count": 13,
   "metadata": {},
   "outputs": [
    {
     "data": {
      "text/plain": [
       "14505786"
      ]
     },
     "execution_count": 13,
     "metadata": {},
     "output_type": "execute_result"
    }
   ],
   "source": [
    "len(df)"
   ]
  },
  {
   "cell_type": "code",
   "execution_count": null,
   "metadata": {},
   "outputs": [],
   "source": []
  }
 ],
 "metadata": {
  "kernelspec": {
   "display_name": "Python 3",
   "language": "python",
   "name": "python3"
  },
  "language_info": {
   "codemirror_mode": {
    "name": "ipython",
    "version": 3
   },
   "file_extension": ".py",
   "mimetype": "text/x-python",
   "name": "python",
   "nbconvert_exporter": "python",
   "pygments_lexer": "ipython3",
   "version": "3.7.4"
  }
 },
 "nbformat": 4,
 "nbformat_minor": 4
}
