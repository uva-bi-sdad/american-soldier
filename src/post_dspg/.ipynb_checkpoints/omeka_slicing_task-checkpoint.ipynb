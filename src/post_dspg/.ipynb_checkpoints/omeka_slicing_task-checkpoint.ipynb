{
 "cells": [
  {
   "cell_type": "code",
   "execution_count": 2,
   "metadata": {},
   "outputs": [],
   "source": [
    "import pandas as pd\n",
    "import numpy as np\n",
    "import os"
   ]
  },
  {
   "cell_type": "code",
   "execution_count": 3,
   "metadata": {},
   "outputs": [
    {
     "data": {
      "text/plain": [
       "'/sfs/qumulo/qhome/scd3dz/git/american-soldier/src/post_dspg'"
      ]
     },
     "execution_count": 3,
     "metadata": {},
     "output_type": "execute_result"
    }
   ],
   "source": [
    "os.getcwd()"
   ]
  },
  {
   "cell_type": "code",
   "execution_count": 24,
   "metadata": {},
   "outputs": [],
   "source": [
    "def slice(path, file):\n",
    "    df = pd.read_csv(path + file + \".csv\", index_col = 0)\n",
    "    print(file, len(df))\n",
    "    i = 0\n",
    "    k = 0\n",
    "    \n",
    "    while i < len(df) - 250:\n",
    "        j = i + 250\n",
    "        print(\"{i}:{j}\".format(i = i, j = j))\n",
    "        \n",
    "        # slice data frame\n",
    "        tmp = df[i:j]\n",
    "        \n",
    "        # save sliced data\n",
    "        tmp.to_csv(\"../../data/post_dspg/to_import_copy_sliced/{file}_{k}.csv\".format(file = file, k = k))\n",
    "        \n",
    "        # increase variables\n",
    "        i += 250\n",
    "        k += 1\n",
    "        \n",
    "    if (i < len(df)):\n",
    "        print(\"{i}:\".format(i = i))\n",
    "        tmp = df[i:]\n",
    "        tmp.to_csv(\"../../data/post_dspg/to_import_copy_sliced/{file}_{k}.csv\".format(file = file, k = k))"
   ]
  },
  {
   "cell_type": "code",
   "execution_count": 25,
   "metadata": {},
   "outputs": [
    {
     "name": "stdout",
     "output_type": "stream",
     "text": [
      "Planning_Survey_I_import 1033\n",
      "{i}:{j}\n",
      "{i}:{j}\n",
      "{i}:{j}\n",
      "{i}:{j}\n",
      "{i}:\n"
     ]
    }
   ],
   "source": [
    "path = \"../../data/post_dspg/to_import_copy/\" \n",
    "file = \"Planning_Survey_I_import\"\n",
    "slice(path, file)"
   ]
  },
  {
   "cell_type": "code",
   "execution_count": null,
   "metadata": {},
   "outputs": [],
   "source": []
  }
 ],
 "metadata": {
  "kernelspec": {
   "display_name": "Python 3",
   "language": "python",
   "name": "python3"
  },
  "language_info": {
   "codemirror_mode": {
    "name": "ipython",
    "version": 3
   },
   "file_extension": ".py",
   "mimetype": "text/x-python",
   "name": "python",
   "nbconvert_exporter": "python",
   "pygments_lexer": "ipython3",
   "version": "3.7.4"
  }
 },
 "nbformat": 4,
 "nbformat_minor": 4
}
